{
 "cells": [
  {
   "cell_type": "code",
   "execution_count": 24,
   "metadata": {},
   "outputs": [],
   "source": [
    "import numpy as np\n",
    "from typing import Tuple"
   ]
  },
  {
   "attachments": {},
   "cell_type": "markdown",
   "metadata": {},
   "source": [
    "## Functions\n"
   ]
  },
  {
   "cell_type": "code",
   "execution_count": 2,
   "metadata": {},
   "outputs": [],
   "source": [
    "def score(x_1: np.ndarray, x_2: np.ndarray) -> int:\n",
    "    \"\"\"\n",
    "    Compares two 1D NumPy arrays and returns a score.\n",
    "\n",
    "    Parameters:\n",
    "      x_1: The first 1D NumPy array.\n",
    "      x_2: The second 1D NumPy array.\n",
    "\n",
    "    Returns:\n",
    "      The score, which is the number of elements in x_1 that are greater than or equal to the corresponding elements in x_2.\n",
    "    \"\"\"\n",
    "\n",
    "    score = 0\n",
    "    for i in range(x_1.shape[0]):\n",
    "        score += np.sum(x_1[i] >= x_2)\n",
    "\n",
    "    return score"
   ]
  },
  {
   "attachments": {},
   "cell_type": "markdown",
   "metadata": {},
   "source": [
    "## step 1\n"
   ]
  },
  {
   "cell_type": "code",
   "execution_count": 33,
   "metadata": {},
   "outputs": [
    {
     "name": "stdout",
     "output_type": "stream",
     "text": [
      "(100, 100)\n",
      "(array([0, 1]), array([46, 54], dtype=int64))\n"
     ]
    }
   ],
   "source": [
    "n, p = (100, 100)\n",
    "X = np.random.randn(n, p)\n",
    "y = np.random.randint(0, 2, size=n)\n",
    "print(X.shape)\n",
    "print(np.unique(y, return_counts=True))"
   ]
  },
  {
   "attachments": {},
   "cell_type": "markdown",
   "metadata": {},
   "source": [
    "## step 2\n"
   ]
  },
  {
   "cell_type": "code",
   "execution_count": 34,
   "metadata": {},
   "outputs": [
    {
     "data": {
      "text/plain": [
       "((100, 100), (100,), 2484)"
      ]
     },
     "execution_count": 34,
     "metadata": {},
     "output_type": "execute_result"
    }
   ],
   "source": [
    "_, (n0, n1) = np.unique(y, return_counts=True)\n",
    "\n",
    "s_max = n0 * n1  # Maximum possible score\n",
    "s_min = 0\n",
    "# Step 2: Sign-flip operation\n",
    "scores = np.zeros(p)\n",
    "new_scores = np.zeros(p)\n",
    "for i in range(p):\n",
    "    xi = X[:, i]\n",
    "    class_0_values, class_1_values = xi[y == 0], xi[y == 1]\n",
    "    scores[i] = score(class_0_values, class_1_values)\n",
    "    if scores[i] > s_max / 2:\n",
    "        X[:, i] *= -1\n",
    "    new_scores[i] = min(scores[i], s_max - scores[i])\n",
    "X.shape, new_scores.shape, s_max"
   ]
  },
  {
   "attachments": {},
   "cell_type": "markdown",
   "metadata": {},
   "source": [
    "## step 3\n"
   ]
  },
  {
   "cell_type": "code",
   "execution_count": 35,
   "metadata": {},
   "outputs": [
    {
     "data": {
      "text/plain": [
       "((100, 1), [57], 57)"
      ]
     },
     "execution_count": 35,
     "metadata": {},
     "output_type": "execute_result"
    }
   ],
   "source": [
    "cluster = []\n",
    "cluster_index = []\n",
    "margins = np.min(X[y == 1], axis=0) - np.max(X[y == 0], axis=0)\n",
    "\n",
    "if len(cluster) == 0:\n",
    "    min_value = np.min(new_scores)\n",
    "    min_indices = np.where(new_scores == min_value)[0]\n",
    "\n",
    "    i_star = (\n",
    "        np.argmin(new_scores)\n",
    "        if min_indices.size == 1\n",
    "        else np.argmax(margins[min_indices])\n",
    "    )\n",
    "    cluster = np.expand_dims(X[:, i_star], axis=1)\n",
    "    cluster_index.append(i_star)\n",
    "    initial_cluster_mean = X[:, i_star]\n",
    "else:\n",
    "    # Random selected genes\n",
    "    pass\n",
    "\n",
    "cluster.shape, cluster_index,i_star"
   ]
  },
  {
   "cell_type": "code",
   "execution_count": 36,
   "metadata": {},
   "outputs": [
    {
     "data": {
      "text/plain": [
       "array([ 0.43774854, -0.70269719, -0.65516156,  2.51799226, -1.04708448,\n",
       "       -0.24788164, -1.16590494, -1.74005918,  0.59843775,  0.56796723,\n",
       "        1.20460126,  0.08429109,  0.6581176 , -0.66757093, -0.84927058,\n",
       "       -0.76463869, -0.13021505,  0.16778205,  1.28113971,  2.46951282,\n",
       "        1.11935643, -0.18076851, -0.83555809,  0.60633124,  0.1125101 ,\n",
       "       -0.60923126,  0.51129733, -2.4765508 , -0.23683659, -0.56054785,\n",
       "        2.27466315, -0.02027489, -0.3363442 ,  1.39916693,  1.23731564,\n",
       "       -0.58639245, -1.13772259,  0.74260974,  2.3783406 ,  0.55108076,\n",
       "        1.53007435,  0.39873528, -0.17470299,  2.01039721, -0.94090366,\n",
       "        0.79705562, -1.57736213, -0.32694543,  0.29892763, -1.72275012,\n",
       "        0.41572058,  1.64395338, -0.68947232, -0.85807489,  0.71771444,\n",
       "        0.17486836,  0.03893379, -1.48774675, -0.30322877,  0.64523587,\n",
       "       -1.17022065,  0.55487068,  0.02536371, -0.26818659, -0.64763202,\n",
       "       -0.8355553 ,  0.27499694, -0.05820931, -0.67774144,  0.49288826,\n",
       "        1.09569184, -1.66807832, -1.26927536, -1.28984097, -0.28190799,\n",
       "       -0.84421114, -0.83160016,  0.28586685, -1.0242618 , -1.53493444,\n",
       "       -0.07267104,  3.8117785 ,  1.65844779, -0.24803928, -0.5793753 ,\n",
       "        0.46520469, -1.51959466, -0.48701145,  0.40593518, -0.36419097,\n",
       "       -1.41789765,  1.42060515,  1.49105284, -0.52995035,  1.24759409,\n",
       "        1.17339895, -0.82473181, -0.17584972, -0.70906497, -0.17043166])"
      ]
     },
     "execution_count": 36,
     "metadata": {},
     "output_type": "execute_result"
    }
   ],
   "source": [
    "initial_cluster_mean"
   ]
  },
  {
   "attachments": {},
   "cell_type": "markdown",
   "metadata": {},
   "source": [
    "## step 4-5"
   ]
  },
  {
   "cell_type": "code",
   "execution_count": 13,
   "metadata": {},
   "outputs": [],
   "source": [
    "# forward search\n",
    "cluster_mean_score = score(initial_cluster_mean[y == 0], initial_cluster_mean[y == 1])\n",
    "cluster_mean_margin = np.min(initial_cluster_mean[y == 1], axis=0) - np.max(\n",
    "    initial_cluster_mean[y == 0], axis=0\n",
    ")\n",
    "\n",
    "while True:\n",
    "    scores_with_gene = np.zeros(p)\n",
    "    margins_with_gene = np.zeros(p)\n",
    "    for i in range(p):\n",
    "        if i in cluster_index:\n",
    "            scores_with_gene[i] = s_max + 1\n",
    "            margins_with_gene[i] = 0\n",
    "            continue\n",
    "        temp_cluster = np.concatenate(\n",
    "            [cluster, np.expand_dims(X[:, i], axis=1)], axis=1\n",
    "        )\n",
    "        temp_cluster_avg = np.mean(temp_cluster, axis=1)\n",
    "        scores_with_gene[i] = score(temp_cluster_avg[y == 0], temp_cluster_avg[y == 1])\n",
    "        margins_with_gene[i] = np.min(temp_cluster_avg[y == 1]) - np.max(\n",
    "            temp_cluster_avg[y == 0]\n",
    "        )\n",
    "\n",
    "    min_value = np.min(scores_with_gene)\n",
    "    min_indices = np.where(scores_with_gene == min_value)[0]\n",
    "\n",
    "    i_star = (\n",
    "        min_indices[0]\n",
    "        if min_indices.size == 1\n",
    "        else np.argmax(margins_with_gene[min_indices])\n",
    "    )\n",
    "\n",
    "    if scores_with_gene[i_star] >= cluster_mean_score:\n",
    "        break\n",
    "\n",
    "    if scores_with_gene[i_star] == cluster_mean_score:\n",
    "        if margins_with_gene[i_star] <= cluster_mean_margin:\n",
    "            break\n",
    "\n",
    "    cluster_index.append(i_star)\n",
    "    cluster = np.concatenate([cluster, np.expand_dims(X[:, i_star], axis=1)], axis=1)\n",
    "    cluster_mean_score = scores_with_gene[i_star]\n",
    "    cluster_mean_margin = margins_with_gene[i_star]"
   ]
  },
  {
   "cell_type": "code",
   "execution_count": 14,
   "metadata": {},
   "outputs": [
    {
     "data": {
      "text/plain": [
       "((100, 9), [42, 75, 88, 77, 38, 56, 74, 85, 95])"
      ]
     },
     "execution_count": 14,
     "metadata": {},
     "output_type": "execute_result"
    }
   ],
   "source": [
    "cluster.shape, cluster_index"
   ]
  },
  {
   "attachments": {},
   "cell_type": "markdown",
   "metadata": {},
   "source": [
    "## step 6-7"
   ]
  },
  {
   "cell_type": "code",
   "execution_count": 15,
   "metadata": {},
   "outputs": [],
   "source": [
    "# Backward search\n",
    "\n",
    "initial_cluster_mean = np.mean(cluster, axis=1)\n",
    "cluster_mean_score = score(initial_cluster_mean[y == 0], initial_cluster_mean[y == 1])\n",
    "cluster_mean_margin = np.min(initial_cluster_mean[y == 1], axis=0) - np.max(\n",
    "    initial_cluster_mean[y == 0], axis=0\n",
    ")\n",
    "\n",
    "while True:\n",
    "    scores_without_gene = np.zeros(len(cluster_index))\n",
    "    margins_without_gene = np.zeros(len(cluster_index))\n",
    "    # start from last gene\n",
    "    for i in range(-1, -len(cluster_index) - 1, -1):\n",
    "        cluster_mean_without_gene_i = np.mean(np.delete(cluster, i, axis=1), axis=1)\n",
    "        scores_without_gene[i] = score(\n",
    "            cluster_mean_without_gene_i[y == 0], cluster_mean_without_gene_i[y == 1]\n",
    "        )\n",
    "        margins_without_gene[i] = np.min(\n",
    "            cluster_mean_without_gene_i[y == 1], axis=0\n",
    "        ) - np.max(cluster_mean_without_gene_i[y == 0], axis=0)\n",
    "\n",
    "    min_value = np.min(scores_without_gene)\n",
    "    min_indices = np.where(scores_without_gene == min_value)[0]\n",
    "\n",
    "    i_star = (\n",
    "        min_indices[0]\n",
    "        if min_indices.size == 1\n",
    "        else np.argmax(margins_without_gene[min_indices])\n",
    "    )\n",
    "    if scores_without_gene[i_star] > cluster_mean_score:\n",
    "        break\n",
    "\n",
    "    if scores_without_gene[i_star] == cluster_mean_score:\n",
    "        if margins_without_gene[i_star] <= cluster_mean_margin:\n",
    "            break\n",
    "\n",
    "    cluster = np.delete(cluster, i_star, axis=1)\n",
    "    cluster_index = np.delete(cluster_index, i_star, axis=0)\n",
    "    cluster_mean_score = scores_without_gene[i_star]\n",
    "    cluster_mean_margin = margins_without_gene[i_star]\n",
    "initial_cluster_mean=np.mean(cluster, axis=1)"
   ]
  },
  {
   "cell_type": "code",
   "execution_count": 22,
   "metadata": {},
   "outputs": [
    {
     "data": {
      "text/plain": [
       "[42, 75, 88, 77, 38, 56, 74, 85, 95]"
      ]
     },
     "execution_count": 22,
     "metadata": {},
     "output_type": "execute_result"
    }
   ],
   "source": [
    " cluster_index"
   ]
  },
  {
   "attachments": {},
   "cell_type": "markdown",
   "metadata": {},
   "source": [
    "## step 8 (4-7)\n",
    "To excute this step excute only 1,2,3 steps."
   ]
  },
  {
   "cell_type": "code",
   "execution_count": 37,
   "metadata": {},
   "outputs": [],
   "source": [
    "def forward_search(\n",
    "    X: np.ndarray,\n",
    "    y: np.ndarray,\n",
    "    cluster: np.ndarray,\n",
    "    cluster_index: np.ndarray,\n",
    "    initial_cluster_mean: np.ndarray,\n",
    ") -> Tuple[np.ndarray, np.ndarray]:\n",
    "    \"\"\"\n",
    "    Forward Search (step 4-5).\n",
    "\n",
    "    Parameters:\n",
    "        X (2D NumPy array): The data array of shape (num_samples, num_genes).\n",
    "        y (1D NumPy array): The label array of shape (num_samples,).\n",
    "        cluster (2D NumPy array): The selected gene or genns.\n",
    "        cluster_index (1D NumPy array): The index of selected gene or genns.\n",
    "        initial_cluster_mean (1D NumPy array): The mean of cluster.\n",
    "\n",
    "    Returns:\n",
    "        cluster: A 2D NumPy array of shape (num_samples, num_genes) containing the clustered genes.\n",
    "        cluster_index: A 1D NumPy array of shape (num_genes,) containing the index of clustered genes.\n",
    "    \"\"\"\n",
    "\n",
    "    n, p = X.shape\n",
    "    _, (n0, n1) = np.unique(y, return_counts=True)\n",
    "\n",
    "    s_max = n0 * n1  # Maximum possible score\n",
    "    cluster_mean_score = score(\n",
    "        initial_cluster_mean[y == 0], initial_cluster_mean[y == 1]\n",
    "    )\n",
    "    cluster_mean_margin = np.min(initial_cluster_mean[y == 1], axis=0) - np.max(\n",
    "        initial_cluster_mean[y == 0], axis=0\n",
    "    )\n",
    "\n",
    "    while True:\n",
    "        scores_with_gene = np.zeros(p)\n",
    "        margins_with_gene = np.zeros(p)\n",
    "        for i in range(p):\n",
    "            if i in cluster_index:\n",
    "                # s_max+1 is the big score for to not be selected as i_star\n",
    "                scores_with_gene[i] = s_max + 1\n",
    "                # impossible to found gene with margin 0 for to not be selected as i_star\n",
    "                margins_with_gene[i] = 0\n",
    "                continue\n",
    "            temp_cluster = np.concatenate(\n",
    "                [cluster, np.expand_dims(X[:, i], axis=1)], axis=1\n",
    "            )\n",
    "            temp_cluster_avg = np.mean(temp_cluster, axis=1)\n",
    "            scores_with_gene[i] = score(\n",
    "                temp_cluster_avg[y == 0], temp_cluster_avg[y == 1]\n",
    "            )\n",
    "            margins_with_gene[i] = np.min(temp_cluster_avg[y == 1]) - np.max(\n",
    "                temp_cluster_avg[y == 0]\n",
    "            )\n",
    "\n",
    "        min_value = np.min(scores_with_gene)\n",
    "        min_indices = np.where(scores_with_gene == min_value)[0]\n",
    "\n",
    "        i_star = (\n",
    "            min_indices[0]\n",
    "            if min_indices.size == 1\n",
    "            else np.argmax(margins_with_gene[min_indices])\n",
    "        )\n",
    "\n",
    "        if scores_with_gene[i_star] >= cluster_mean_score:\n",
    "            break\n",
    "\n",
    "        if scores_with_gene[i_star] == cluster_mean_score:\n",
    "            if margins_with_gene[i_star] <= cluster_mean_margin:\n",
    "                break\n",
    "\n",
    "        cluster_index = np.append(cluster_index, i_star)\n",
    "        cluster = np.concatenate(\n",
    "            [cluster, np.expand_dims(X[:, i_star], axis=1)], axis=1\n",
    "        )\n",
    "        cluster_mean_score = scores_with_gene[i_star]\n",
    "        cluster_mean_margin = margins_with_gene[i_star]\n",
    "    return cluster, cluster_index\n",
    "\n",
    "\n",
    "def backword_search(\n",
    "    y: np.ndarray,\n",
    "    cluster: np.ndarray,\n",
    "    cluster_index: np.ndarray,\n",
    ") -> Tuple[np.ndarray, np.ndarray, np.ndarray]:\n",
    "    \"\"\"\n",
    "    Backword Search (step 6-7).\n",
    "\n",
    "    Parameters:\n",
    "        y (1D NumPy array): The label array of shape (num_samples,).\n",
    "        cluster (2D NumPy array): The selected gene or genns.\n",
    "        cluster_index (1D NumPy array): The index of selected gene or genns.\n",
    "\n",
    "    Returns:\n",
    "        cluster: A 2D NumPy array of shape (num_samples, num_genes) containing the clustered genes.\n",
    "        cluster_index: A 1D NumPy array of shape (num_genes,) containing the index of clustered genes.\n",
    "        initial_cluster_mean: A 1D NumPy array of shape (num_samples,) containing the mean of cluster.\n",
    "    \"\"\"\n",
    "\n",
    "    initial_cluster_mean = np.mean(cluster, axis=1)\n",
    "    cluster_mean_score = score(\n",
    "        initial_cluster_mean[y == 0], initial_cluster_mean[y == 1]\n",
    "    )\n",
    "    cluster_mean_margin = np.min(initial_cluster_mean[y == 1], axis=0) - np.max(\n",
    "        initial_cluster_mean[y == 0], axis=0\n",
    "    )\n",
    "\n",
    "    while True:\n",
    "        scores_without_gene = np.zeros(cluster_index.size)\n",
    "        margins_without_gene = np.zeros(cluster_index.size)\n",
    "        # start from last gene\n",
    "        for i in range(-1, -cluster_index.size - 1, -1):\n",
    "            cluster_mean_without_gene_i = np.mean(np.delete(cluster, i, axis=1), axis=1)\n",
    "            scores_without_gene[i] = score(\n",
    "                cluster_mean_without_gene_i[y == 0], cluster_mean_without_gene_i[y == 1]\n",
    "            )\n",
    "            margins_without_gene[i] = np.min(\n",
    "                cluster_mean_without_gene_i[y == 1], axis=0\n",
    "            ) - np.max(cluster_mean_without_gene_i[y == 0], axis=0)\n",
    "\n",
    "        min_value = np.min(scores_without_gene)\n",
    "        min_indices = np.where(scores_without_gene == min_value)[0]\n",
    "\n",
    "        i_star = (\n",
    "            min_indices[0]\n",
    "            if min_indices.size == 1\n",
    "            else np.argmax(margins_without_gene[min_indices])\n",
    "        )\n",
    "        if scores_without_gene[i_star] > cluster_mean_score:\n",
    "            break\n",
    "\n",
    "        if scores_without_gene[i_star] == cluster_mean_score:\n",
    "            if margins_without_gene[i_star] <= cluster_mean_margin:\n",
    "                break\n",
    "\n",
    "        cluster = np.delete(cluster, i_star, axis=1)\n",
    "        cluster_index = np.delete(cluster_index, i_star, axis=0)\n",
    "        cluster_mean_score = scores_without_gene[i_star]\n",
    "        cluster_mean_margin = margins_without_gene[i_star]\n",
    "    initial_cluster_mean = np.mean(cluster, axis=1)\n",
    "    return cluster, cluster_index, initial_cluster_mean"
   ]
  },
  {
   "cell_type": "code",
   "execution_count": 38,
   "metadata": {},
   "outputs": [
    {
     "name": "stdout",
     "output_type": "stream",
     "text": [
      "[array([57, 33, 31, 10, 18, 22, 40, 12,  0, 69, 16, 48, 81, 24, 75],\n",
      "      dtype=int64)]\n",
      "[array([57, 33, 31, 10, 18, 22, 40, 12,  0, 69, 16, 48, 81, 24, 75],\n",
      "      dtype=int64), array([57, 33, 31, 10, 18, 22, 40, 12,  0, 69, 16, 48, 81, 24, 75],\n",
      "      dtype=int64)]\n"
     ]
    }
   ],
   "source": [
    "cluster, cluster_index = forward_search(\n",
    "    X, y, cluster, cluster_index, initial_cluster_mean\n",
    ")\n",
    "cluster, cluster_index, intiale_cluster_mean = backword_search(\n",
    "    y, cluster, cluster_index\n",
    ")\n",
    "cluster_index_state = []\n",
    "cluster_index_state.append(cluster_index)\n",
    "while True:\n",
    "    cluster, cluster_index = forward_search(\n",
    "        X, y, cluster, cluster_index, intiale_cluster_mean\n",
    "    )\n",
    "    cluster, cluster_index, intiale_cluster_mean = backword_search(\n",
    "        y, cluster, cluster_index\n",
    "    )\n",
    "    cluster_index_state.append(cluster_index)\n",
    "\n",
    "    if np.array_equal(cluster_index_state[-2], cluster_index_state[-1]):\n",
    "        break"
   ]
  },
  {
   "cell_type": "code",
   "execution_count": 39,
   "metadata": {},
   "outputs": [
    {
     "data": {
      "text/plain": [
       "array([57, 33, 31, 10, 18, 22, 40, 12,  0, 69, 16, 48, 81, 24, 75],\n",
       "      dtype=int64)"
      ]
     },
     "execution_count": 39,
     "metadata": {},
     "output_type": "execute_result"
    }
   ],
   "source": [
    "cluster_index"
   ]
  },
  {
   "cell_type": "markdown",
   "metadata": {},
   "source": [
    "## for the step 9 run main.py"
   ]
  }
 ],
 "metadata": {
  "kernelspec": {
   "display_name": "Python 3",
   "language": "python",
   "name": "python3"
  },
  "language_info": {
   "codemirror_mode": {
    "name": "ipython",
    "version": 3
   },
   "file_extension": ".py",
   "mimetype": "text/x-python",
   "name": "python",
   "nbconvert_exporter": "python",
   "pygments_lexer": "ipython3",
   "version": "3.11.1"
  },
  "orig_nbformat": 4
 },
 "nbformat": 4,
 "nbformat_minor": 2
}
