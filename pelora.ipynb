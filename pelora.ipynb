{
 "cells": [
  {
   "cell_type": "code",
   "execution_count": 1,
   "metadata": {},
   "outputs": [],
   "source": [
    "import numpy as np\n",
    "from typing import Tuple"
   ]
  },
  {
   "attachments": {},
   "cell_type": "markdown",
   "metadata": {},
   "source": [
    "## Functions\n"
   ]
  },
  {
   "cell_type": "code",
   "execution_count": 2,
   "metadata": {},
   "outputs": [],
   "source": [
    "def score(x_1: np.ndarray, x_2: np.ndarray) -> int:\n",
    "    \"\"\"\n",
    "    Compares two 1D NumPy arrays and returns a score.\n",
    "\n",
    "    Parameters:\n",
    "      x_1: The first 1D NumPy array.\n",
    "      x_2: The second 1D NumPy array.\n",
    "\n",
    "    Returns:\n",
    "      The score, which is the number of elements in x_1 that are greater than or equal to the corresponding elements in x_2.\n",
    "    \"\"\"\n",
    "\n",
    "    score = 0\n",
    "    for i in range(x_1.shape[0]):\n",
    "        score += np.sum(x_1[i] >= x_2)\n",
    "\n",
    "    return score"
   ]
  },
  {
   "attachments": {},
   "cell_type": "markdown",
   "metadata": {},
   "source": [
    "## step 1\n"
   ]
  },
  {
   "cell_type": "code",
   "execution_count": 14,
   "metadata": {},
   "outputs": [
    {
     "name": "stdout",
     "output_type": "stream",
     "text": [
      "(100, 15)\n",
      "(array([0, 1]), array([52, 48], dtype=int64))\n"
     ]
    }
   ],
   "source": [
    "n, p = (100, 15)\n",
    "X = np.random.randn(n, p)\n",
    "y = np.random.randint(0, 2, size=n)\n",
    "print(X.shape)\n",
    "print(np.unique(y, return_counts=True))"
   ]
  },
  {
   "attachments": {},
   "cell_type": "markdown",
   "metadata": {},
   "source": [
    "## step 2\n"
   ]
  },
  {
   "cell_type": "code",
   "execution_count": 15,
   "metadata": {},
   "outputs": [
    {
     "data": {
      "text/plain": [
       "((100, 15), (15,), 2496)"
      ]
     },
     "execution_count": 15,
     "metadata": {},
     "output_type": "execute_result"
    }
   ],
   "source": [
    "_, (n0, n1) = np.unique(y, return_counts=True)\n",
    "\n",
    "s_max = n0 * n1  # Maximum possible score\n",
    "s_min = 0\n",
    "# Step 2: Sign-flip operation\n",
    "scores = np.zeros(p)\n",
    "new_scores = np.zeros(p)\n",
    "for i in range(p):\n",
    "    xi = X[:, i]\n",
    "    class_0_values, class_1_values = xi[y == 0], xi[y == 1]\n",
    "    scores[i] = score(class_0_values, class_1_values)\n",
    "    if scores[i] > s_max / 2:\n",
    "        X[:, i] *= -1\n",
    "    new_scores[i] = min(scores[i], s_max - scores[i])\n",
    "X.shape, new_scores.shape, s_max"
   ]
  },
  {
   "attachments": {},
   "cell_type": "markdown",
   "metadata": {},
   "source": [
    "## step 3\n"
   ]
  },
  {
   "cell_type": "code",
   "execution_count": 16,
   "metadata": {},
   "outputs": [
    {
     "data": {
      "text/plain": [
       "((100, 1), [1], 1)"
      ]
     },
     "execution_count": 16,
     "metadata": {},
     "output_type": "execute_result"
    }
   ],
   "source": [
    "cluster = []\n",
    "cluster_index = []\n",
    "margins = np.min(X[y == 1], axis=0) - np.max(X[y == 0], axis=0)\n",
    "\n",
    "if len(cluster) == 0:\n",
    "    min_value = np.min(new_scores)\n",
    "    min_indices = np.where(new_scores == min_value)[0]\n",
    "\n",
    "    i_star = (\n",
    "        np.argmin(new_scores)\n",
    "        if min_indices.size == 1\n",
    "        else np.argmax(margins[min_indices])\n",
    "    )\n",
    "    cluster = np.expand_dims(X[:, i_star], axis=1)\n",
    "    cluster_index.append(i_star)\n",
    "    initial_cluster_mean = X[:, i_star]\n",
    "else:\n",
    "    # Random selected genes\n",
    "    pass\n",
    "\n",
    "cluster.shape, cluster_index,i_star"
   ]
  },
  {
   "attachments": {},
   "cell_type": "markdown",
   "metadata": {},
   "source": [
    "## step 4-5"
   ]
  },
  {
   "cell_type": "code",
   "execution_count": 17,
   "metadata": {},
   "outputs": [],
   "source": [
    "# forward search\n",
    "\n",
    "cluster_mean_score = score(initial_cluster_mean[y == 0], initial_cluster_mean[y == 1])\n",
    "cluster_mean_margin = np.min(initial_cluster_mean[y == 1], axis=0) - np.max(\n",
    "    initial_cluster_mean[y == 0], axis=0\n",
    ")\n",
    "\n",
    "while True:\n",
    "    scores_with_gene = np.zeros(p)\n",
    "    margins_with_gene = np.zeros(p)\n",
    "    for i in range(p):\n",
    "        if i in cluster_index:\n",
    "            scores_with_gene[i] = s_max\n",
    "            margins_with_gene[i] = s_min\n",
    "            continue\n",
    "        temp_cluster = np.concatenate(\n",
    "            [cluster, np.expand_dims(X[:, i], axis=1)], axis=1\n",
    "        )\n",
    "        temp_cluster_avg = np.mean(temp_cluster, axis=1)\n",
    "        scores_with_gene[i] = score(temp_cluster_avg[y == 0], temp_cluster_avg[y == 1])\n",
    "        margins_with_gene[i] = np.min(temp_cluster_avg[y == 1]) - np.max(\n",
    "            temp_cluster_avg[y == 0]\n",
    "        )\n",
    "\n",
    "    min_value = np.min(scores_with_gene)\n",
    "    min_indices = np.where(scores_with_gene == min_value)[0]\n",
    "\n",
    "    i_star = (\n",
    "        min_indices[0]\n",
    "        if min_indices.size == 1\n",
    "        else np.argmax(margins_with_gene[min_indices])\n",
    "    )\n",
    "\n",
    "    if scores_with_gene[i_star] > cluster_mean_score:\n",
    "        break\n",
    "\n",
    "    if scores_with_gene[i_star] == cluster_mean_score:\n",
    "        if margins_with_gene[i_star] <= cluster_mean_margin:\n",
    "            break\n",
    "\n",
    "    cluster_index.append(i_star)\n",
    "    cluster = np.concatenate([cluster, np.expand_dims(X[:, i_star], axis=1)], axis=1)\n",
    "    cluster_mean_score = scores_with_gene[i_star]\n",
    "    cluster_mean_margin = margins_with_gene[i_star]\n"
   ]
  },
  {
   "cell_type": "code",
   "execution_count": 18,
   "metadata": {},
   "outputs": [
    {
     "data": {
      "text/plain": [
       "((100, 7), [1, 12, 3, 14, 11, 9, 13])"
      ]
     },
     "execution_count": 18,
     "metadata": {},
     "output_type": "execute_result"
    }
   ],
   "source": [
    "cluster.shape, cluster_index"
   ]
  },
  {
   "attachments": {},
   "cell_type": "markdown",
   "metadata": {},
   "source": [
    "## step 6-7"
   ]
  },
  {
   "cell_type": "code",
   "execution_count": 12,
   "metadata": {},
   "outputs": [
    {
     "data": {
      "text/plain": [
       "((100, 6), array([11,  2,  6, 14,  8, 13,  4,  1,  9, 10,  5], dtype=int64))"
      ]
     },
     "execution_count": 12,
     "metadata": {},
     "output_type": "execute_result"
    }
   ],
   "source": [
    "# Backward search\n",
    "# there is error\n",
    "\n",
    "initial_cluster_mean\n",
    "cluster_mean_score = score(initial_cluster_mean[y == 0], initial_cluster_mean[y == 1])\n",
    "cluster_mean_margin = np.min(initial_cluster_mean[y == 1], axis=0) - np.max(\n",
    "    initial_cluster_mean[y == 0], axis=0\n",
    ")\n",
    "\n",
    "while True:\n",
    "    \n",
    "    pass\n",
    "cluster.shape,new_cluster_index"
   ]
  },
  {
   "cell_type": "code",
   "execution_count": 13,
   "metadata": {},
   "outputs": [
    {
     "data": {
      "text/plain": [
       "[11, 2, 6, 14, 8, 13, 7, 4, 1, 9, 10, 5]"
      ]
     },
     "execution_count": 13,
     "metadata": {},
     "output_type": "execute_result"
    }
   ],
   "source": [
    "cluster_index"
   ]
  }
 ],
 "metadata": {
  "kernelspec": {
   "display_name": "Python 3",
   "language": "python",
   "name": "python3"
  },
  "language_info": {
   "codemirror_mode": {
    "name": "ipython",
    "version": 3
   },
   "file_extension": ".py",
   "mimetype": "text/x-python",
   "name": "python",
   "nbconvert_exporter": "python",
   "pygments_lexer": "ipython3",
   "version": "3.11.1"
  },
  "orig_nbformat": 4
 },
 "nbformat": 4,
 "nbformat_minor": 2
}
