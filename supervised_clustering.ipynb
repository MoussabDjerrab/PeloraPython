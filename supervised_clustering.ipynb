{
 "cells": [
  {
   "cell_type": "code",
   "execution_count": 2,
   "metadata": {
    "id": "ipD08B5pwn5g"
   },
   "outputs": [],
   "source": [
    "import numpy as np\n",
    "import scipy as sp"
   ]
  },
  {
   "cell_type": "code",
   "execution_count": 3,
   "metadata": {
    "id": "NhNgPIWWxTHC"
   },
   "outputs": [],
   "source": [
    "def expression_matrix(n, p):\n",
    "    \n",
    "    X = np.random.randn(n, p)\n",
    "    #print(X)\n",
    "\n",
    "\n",
    "\n",
    "    col_means = np.mean(X, axis=0)\n",
    "    \n",
    "    col_std = np.std(X, axis=0)\n",
    "    \n",
    "    X_normalized = (X - col_means) / col_std #We use the  normalization to have a zero mean and a unit variance \n",
    "    \n",
    "    return X_normalized"
   ]
  },
  {
   "cell_type": "code",
   "execution_count": 4,
   "metadata": {
    "colab": {
     "base_uri": "https://localhost:8080/"
    },
    "id": "jme04vbCxxRQ",
    "outputId": "680ff60e-d0f3-4514-cb83-91af7bfa8a7e"
   },
   "outputs": [
    {
     "name": "stdout",
     "output_type": "stream",
     "text": [
      "[0 0 1 1 1]\n",
      "Normalized values: [[ 4.49119696e-01 -2.09623176e-01  1.43693278e-01  1.13788477e+00\n",
      "   5.25141447e-01]\n",
      " [ 7.11299445e-01  6.52586651e-01  2.58289655e-01  4.27311405e-01\n",
      "   8.96039095e-02]\n",
      " [-5.34399947e-03  3.62987796e-01  1.02915172e+00 -6.37290570e-01\n",
      "  -5.72571290e-01]\n",
      " [-1.02817507e-01 -8.89865678e-02  7.00172825e-01  5.41529135e-01\n",
      "   6.75065458e-01]\n",
      " [-2.45289043e+00 -1.54961552e-01  1.72871889e+00 -5.61043443e-01\n",
      "  -7.31750798e-01]\n",
      " [-1.05050861e+00 -8.00347616e-01 -3.56648086e-01 -1.10194640e+00\n",
      "  -9.32964520e-01]\n",
      " [ 1.39007865e+00 -1.23944721e+00  9.71957629e-01  1.01657811e+00\n",
      "  -4.69133660e-02]\n",
      " [-3.62460835e-01 -5.91294448e-01 -9.02007640e-01 -1.30687400e-02\n",
      "   6.25907687e-01]\n",
      " [-1.27363403e+00 -2.68146728e-01  4.67324739e-01  9.34068145e-01\n",
      "   1.32575259e-01]\n",
      " [-1.97546638e+00 -1.14465325e+00 -1.92367109e+00  7.63434485e-01\n",
      "   6.35366244e-01]\n",
      " [ 1.15491633e+00  3.68702698e-04  1.06283349e+00  4.62687007e-01\n",
      "   1.75300051e+00]\n",
      " [ 4.76198177e-02  3.72725422e-01 -1.29962268e+00  1.38005450e+00\n",
      "  -1.10454016e-01]\n",
      " [ 2.51394895e+00 -6.88552062e-01 -2.55570125e-01  7.08175154e-02\n",
      "  -1.80178896e-01]\n",
      " [ 2.68259663e-02  9.07323797e-01 -1.32559670e+00 -1.26590901e+00\n",
      "  -2.38300913e+00]\n",
      " [ 2.35943071e+00  3.38198746e-01  4.66872840e-02  3.68255973e-02\n",
      "  -3.07980375e-01]\n",
      " [ 2.11663662e+00 -3.48939150e-01 -6.90402748e-01  8.48327108e-01\n",
      "  -3.55676772e-01]\n",
      " [-1.04126798e+00  5.68754560e-01  1.23468211e+00  6.62109171e-01\n",
      "  -2.25652600e+00]\n",
      " [ 8.51868674e-01  2.13913673e-01 -5.20194182e-01  7.13412990e-02\n",
      "   1.09278985e+00]\n",
      " [ 9.62418407e-01  7.03461983e-01 -9.10713129e-01 -7.75514092e-01\n",
      "   1.18856250e+00]\n",
      " [ 7.38759899e-01 -5.41973481e-01 -6.02047342e-01 -8.19197784e-01\n",
      "   1.51599048e+00]\n",
      " [ 2.24950471e-02  1.70189941e+00 -7.07188860e-01  2.37086391e+00\n",
      "   6.98148732e-01]\n",
      " [-5.33511396e-01  6.79444994e-01  6.90413998e-01  1.44659227e-01\n",
      "  -1.28828909e+00]\n",
      " [-5.51930436e-01  1.39363032e+00  2.27357881e-01 -9.96003368e-01\n",
      "   1.45236217e-01]\n",
      " [-1.98314420e-01  1.71052565e-01  1.36052589e+00 -6.11652502e-01\n",
      "  -2.17461881e-01]\n",
      " [-1.61147788e-01 -2.37456416e+00  9.03260318e-01 -1.31713858e+00\n",
      "  -2.15580912e+00]\n",
      " [-4.32879274e-01 -1.17743968e+00 -5.50369595e-01  6.90681865e-01\n",
      "   8.37904362e-01]\n",
      " [-7.47996013e-01 -1.44873750e-01 -9.67210371e-01 -2.45566789e-01\n",
      "   9.10761299e-01]\n",
      " [ 1.28318597e+00  1.06475296e+00 -9.38048170e-01  5.15116997e-01\n",
      "   9.53986029e-01]\n",
      " [ 6.82659884e-01 -1.47199257e-01  9.40767738e-01  6.99364377e-01\n",
      "  -1.78166090e-01]\n",
      " [-6.17045034e-01  2.18655390e+00 -9.02562972e-01  1.35251862e+00\n",
      "   1.47935251e-01]\n",
      " [ 2.25892719e-01  7.00128817e-01 -1.61090921e-01  5.04295035e-01\n",
      "  -6.58169336e-01]\n",
      " [-1.22284272e+00 -2.00312844e+00 -3.80464222e-01 -2.09892816e+00\n",
      "  -4.87132195e-01]\n",
      " [-3.57357097e-02 -1.83935404e-01  8.26259883e-01 -2.65187827e+00\n",
      "   6.26746540e-01]\n",
      " [-1.15856687e+00 -1.17810715e+00  2.00668405e+00  2.55255391e-01\n",
      "   1.78933133e+00]\n",
      " [ 8.69825899e-01 -4.18167487e-01  5.91535265e-01  1.71130855e-01\n",
      "   1.03598530e-01]\n",
      " [-3.00065538e-02  2.83107499e+00 -6.09131943e-01 -1.59064150e+00\n",
      "   1.06286115e+00]\n",
      " [-1.83491410e+00  5.13961210e-01 -2.65718805e+00  1.39978329e+00\n",
      "  -9.90754564e-01]\n",
      " [-6.96377158e-01 -5.79735661e-01  1.11110118e-01 -1.38318066e+00\n",
      "  -8.00182271e-01]\n",
      " [ 5.61840732e-01  1.56112138e+00 -7.48872132e-01 -1.13279335e+00\n",
      "  -1.66822675e-01]\n",
      " [ 1.07971669e-01  1.32005368e-01  1.07711011e+00 -3.43134777e-02\n",
      "  -1.14440236e+00]\n",
      " [-5.18935908e-01 -1.12091015e+00  1.24474738e+00  6.32768296e-02\n",
      "  -1.33852789e+00]\n",
      " [ 4.45356971e-01 -2.33570275e-01 -7.93618281e-01  3.14415489e-01\n",
      "   1.38303933e+00]\n",
      " [-4.13848616e-01 -9.39508370e-01  1.04218070e+00 -8.54969857e-02\n",
      "   1.25918947e-01]\n",
      " [-1.45880307e-01 -5.11429929e-01 -7.10045822e-01  1.24110659e+00\n",
      "  -5.21629461e-01]\n",
      " [-1.70292201e-01  1.10695340e+00 -3.79467521e-01 -1.66876130e+00\n",
      "   8.44453792e-01]\n",
      " [-1.62939880e-01 -1.48897874e+00  2.08700047e-01 -2.89244680e-01\n",
      "  -5.83191827e-02]\n",
      " [ 1.78402804e-01  4.36984791e-01  8.19480932e-01  5.47430740e-01\n",
      "   1.56694846e+00]\n",
      " [ 8.38659969e-01  1.60600461e-01  1.35982463e+00 -5.63906322e-01\n",
      "  -4.87876730e-01]\n",
      " [ 2.26425000e-03 -8.03678516e-01 -7.55903012e-03  1.50591068e-01\n",
      "  -1.53224234e+00]\n",
      " [-6.43924914e-01  6.21666324e-01 -1.75417894e+00  1.07001745e+00\n",
      "   4.72937032e-01]]\n",
      "standard deviation: [1. 1. 1. 1. 1.]\n"
     ]
    }
   ],
   "source": [
    "p = 5\n",
    "n = 50   \n",
    "\n",
    "X = expression_matrix(n, p)\n",
    "y = np.random.randint(2, size=p)\n",
    "print(y)\n",
    "\n",
    "print(f'Normalized values: {X}')\n",
    "print(f\"standard deviation: {np.std(X, axis=0)}\")"
   ]
  },
  {
   "cell_type": "code",
   "execution_count": 5,
   "metadata": {
    "id": "DQmsG6h72jah"
   },
   "outputs": [],
   "source": [
    "def score(X, y):\n",
    "\n",
    "    y0 = []\n",
    "    y1 = []\n",
    "    for index, j in enumerate(y):\n",
    "        if j == 1:\n",
    "            y1 = np.append(y1 ,index)\n",
    "    \n",
    "    y1 = np.asarray(y1, dtype = 'int')\n",
    "    score_of_x = np.zeros(n)\n",
    "        \n",
    "    \n",
    "    for i in range(p):\n",
    "        if i not in y1:\n",
    "            y0 = np.append(y0, i)\n",
    "    y0 = np.asarray(y0, dtype = 'int')\n",
    "\n",
    "                    \n",
    "    for index, row in enumerate(X):\n",
    "        for i in y1:\n",
    "            for j in y0:\n",
    "                if row[i] >= row[j]:\n",
    "                    score_of_x[index] = score_of_x[index] + 1\n",
    "       \n",
    "    return score_of_x,y0,y1"
   ]
  },
  {
   "cell_type": "code",
   "execution_count": 6,
   "metadata": {
    "colab": {
     "base_uri": "https://localhost:8080/",
     "height": 314
    },
    "id": "Z1dh3OHVMpyK",
    "outputId": "f563eb92-945a-4c2b-db7d-f8a054a268a6"
   },
   "outputs": [],
   "source": [
    "scoreX,y0,y1 = score(X, y)"
   ]
  },
  {
   "cell_type": "code",
   "execution_count": 7,
   "metadata": {},
   "outputs": [],
   "source": [
    "def flip_sign(X, score):\n",
    "    score_max = np.max(score)\n",
    "    \n",
    "    for i in range(len(score)):\n",
    "        if(score[i] > score_max/2):\n",
    "            X[i] = X[i] * (-1)\n",
    "\n",
    "    return X\n",
    "        \n"
   ]
  },
  {
   "cell_type": "code",
   "execution_count": 8,
   "metadata": {},
   "outputs": [],
   "source": [
    "X = flip_sign(X, scoreX)"
   ]
  },
  {
   "cell_type": "code",
   "execution_count": 9,
   "metadata": {},
   "outputs": [],
   "source": [
    "def new_score(score):\n",
    "    new_score = []\n",
    "    s_max = np.max(score)\n",
    "    for i in range(len(score)):\n",
    "        n = np.minimum(int(score[i]), int(s_max)-int(score[i]))\n",
    "        new_score.append(n)\n",
    "    return new_score\n",
    "        "
   ]
  },
  {
   "cell_type": "code",
   "execution_count": 10,
   "metadata": {},
   "outputs": [],
   "source": [
    "newscore = new_score(scoreX)"
   ]
  },
  {
   "cell_type": "code",
   "execution_count": 11,
   "metadata": {},
   "outputs": [],
   "source": [
    "def margin(X,y0,y1):\n",
    "    m = []\n",
    "    max_x0 = []\n",
    "    min_x1 = []\n",
    "    \n",
    "    for i in range(X.shape[0]):\n",
    "        X0 = []\n",
    "        X1 = []\n",
    "        for j in y0:\n",
    "            X0.append(X[i][j])\n",
    "        for z in y1:\n",
    "            X1.append(X[i][z])\n",
    "            \n",
    "            \n",
    "        max_x0.append(np.max(X0))\n",
    "        min_x1.append(np.min(X1))\n",
    "        \n",
    "        m.append(min_x1[i] -max_x0[i])\n",
    "        \n",
    "    return m\n"
   ]
  },
  {
   "cell_type": "code",
   "execution_count": 12,
   "metadata": {},
   "outputs": [],
   "source": [
    "def init_cluster(new_score, X, y0, y1):\n",
    "    min_score = np.min(new_score)\n",
    "    similar_genes = []\n",
    "    margins = []\n",
    "    for i in range(len(new_score)):\n",
    "        if (new_score[i] == min_score):\n",
    "            similar_genes.append(i)\n",
    "            \n",
    "    marginz = margin(X, y0, y1)\n",
    "    for i in similar_genes:\n",
    "        margins.append(marginz[i])\n",
    "        \n",
    "    max_margin = np.argmax(margins)\n",
    "        \n",
    "    ie = similar_genes[max_margin]\n",
    "    \n",
    "    return {\n",
    "        \"ie\" : ie,\n",
    "        \"cg\" : X[ie] \n",
    "    } \n",
    "        "
   ]
  },
  {
   "cell_type": "code",
   "execution_count": 13,
   "metadata": {},
   "outputs": [],
   "source": [
    "c = []\n",
    "c.append(init_cluster(newscore, X, y0, y1))"
   ]
  },
  {
   "cell_type": "code",
   "execution_count": 14,
   "metadata": {},
   "outputs": [],
   "source": [
    "def average_gene(c):\n",
    "    \n",
    "    \n",
    "    eC = np.sum(c['cg'])\n",
    "    print(eC)\n",
    "    eC = eC/abs(c['cg'])\n",
    " \n",
    "    return eC\n",
    "        "
   ]
  },
  {
   "cell_type": "code",
   "execution_count": 15,
   "metadata": {},
   "outputs": [
    {
     "name": "stdout",
     "output_type": "stream",
     "text": [
      "2.1390910660020026\n"
     ]
    }
   ],
   "source": [
    "e_c = average_gene(c[0])"
   ]
  },
  {
   "cell_type": "code",
   "execution_count": 16,
   "metadata": {},
   "outputs": [],
   "source": [
    "def average_current_cluster(eC, c):\n",
    "    \n",
    "    e_Ci = []\n",
    "    \n",
    "    for row in X:\n",
    "        sum_i = row + eC\n",
    "        e_Ci.append(sum_i/abs(c['cg']+1))\n",
    " \n",
    "    return e_Ci"
   ]
  },
  {
   "cell_type": "code",
   "execution_count": 17,
   "metadata": {},
   "outputs": [],
   "source": [
    "e_Ci = average_current_cluster(e_c, c[0])\n"
   ]
  },
  {
   "cell_type": "code",
   "execution_count": 19,
   "metadata": {},
   "outputs": [],
   "source": [
    "def winning_gene():\n",
    "    score_e_Ci, y0, y1 = score(e_Ci, y)\n",
    "    min_score = np.argmin(score_e_Ci)\n",
    "    \n",
    "    similar_scores = []\n",
    "    \n",
    "    for i in range(len(score_e_Ci)):\n",
    "        if (score_e_Ci[i] == min_score):\n",
    "            similar_scores.append(i)\n",
    "            \n",
    "    if (len(similar_scores) > 1):\n",
    "        pass\n",
    "        "
   ]
  },
  {
   "cell_type": "code",
   "execution_count": null,
   "metadata": {},
   "outputs": [],
   "source": []
  },
  {
   "cell_type": "code",
   "execution_count": null,
   "metadata": {},
   "outputs": [],
   "source": []
  },
  {
   "cell_type": "code",
   "execution_count": null,
   "metadata": {},
   "outputs": [],
   "source": []
  }
 ],
 "metadata": {
  "colab": {
   "provenance": []
  },
  "kernelspec": {
   "display_name": "Python 3 (ipykernel)",
   "language": "python",
   "name": "python3"
  },
  "language_info": {
   "codemirror_mode": {
    "name": "ipython",
    "version": 3
   },
   "file_extension": ".py",
   "mimetype": "text/x-python",
   "name": "python",
   "nbconvert_exporter": "python",
   "pygments_lexer": "ipython3",
   "version": "3.9.12"
  }
 },
 "nbformat": 4,
 "nbformat_minor": 1
}
