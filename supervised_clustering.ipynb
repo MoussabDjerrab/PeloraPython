{
 "cells": [
  {
   "cell_type": "code",
   "execution_count": 1,
   "metadata": {
    "id": "ipD08B5pwn5g"
   },
   "outputs": [],
   "source": [
    "import numpy as np\n",
    "import scipy as sp"
   ]
  },
  {
   "cell_type": "code",
   "execution_count": 2,
   "metadata": {
    "id": "NhNgPIWWxTHC"
   },
   "outputs": [],
   "source": [
    "def expression_matrix(n, p):\n",
    "    \n",
    "    X = np.random.randn(n, p)\n",
    "    #print(X)\n",
    "\n",
    "\n",
    "\n",
    "    col_means = np.mean(X, axis=0)\n",
    "    \n",
    "    col_std = np.std(X, axis=0)\n",
    "    \n",
    "    X_normalized = (X - col_means) / col_std #We use the  normalization to have a zero mean and a unit variance \n",
    "    \n",
    "    return X_normalized"
   ]
  },
  {
   "cell_type": "code",
   "execution_count": 3,
   "metadata": {
    "colab": {
     "base_uri": "https://localhost:8080/"
    },
    "id": "jme04vbCxxRQ",
    "outputId": "680ff60e-d0f3-4514-cb83-91af7bfa8a7e"
   },
   "outputs": [
    {
     "name": "stdout",
     "output_type": "stream",
     "text": [
      "[1 1 1 1 0]\n",
      "Normalized values: [[-0.22415379  0.9824532  -1.04207291  1.98257619  0.06676293]\n",
      " [-1.58785224  0.05736811 -1.20699088  0.52904362 -1.32008552]\n",
      " [-0.1340121  -1.16095211 -0.53462852  1.43142326  0.15772313]\n",
      " [ 0.72105361  0.16500347 -0.75299928  1.15135094  0.88530279]\n",
      " [-0.20877131 -0.45843592  1.61777696 -1.55294256  0.37115795]\n",
      " [-0.99567112 -0.16649615 -1.09058117  2.03123517 -0.86625139]\n",
      " [ 1.13704369  0.25487417 -0.91235904 -0.59792545  2.23599801]\n",
      " [-1.13456187  1.237676    1.99217237  1.48278643 -0.09784065]\n",
      " [-0.03592978 -0.98125711  0.12459876  0.67808298  1.53652501]\n",
      " [-0.57448606 -0.32283453 -1.55508666 -0.2201472   0.01771123]\n",
      " [ 0.02078071 -0.72425963  0.31012189 -1.59367588  1.01687231]\n",
      " [-0.95269321  0.65927895  0.50063452  0.33306993  1.50585532]\n",
      " [-0.7793643  -1.27282174  0.73343685  0.56456089 -0.11661656]\n",
      " [-1.13047342  0.45176466 -0.37835812 -0.19480386  0.90084378]\n",
      " [ 1.16450001 -0.98860823  0.26526913 -0.70767072  0.01547212]\n",
      " [-0.04066668  0.05041296 -0.74078938  0.29063971  1.42304425]\n",
      " [-0.31095738 -0.39365878 -0.06902354  1.03966634  1.27908849]\n",
      " [ 1.18658735 -1.54899558  0.21615428  1.03158097 -1.21357521]\n",
      " [ 1.01756889 -0.84799812 -1.44766579  0.00821118 -1.72325008]\n",
      " [-1.17443422 -1.73445001  0.47495934  1.14639379  0.21546214]\n",
      " [ 1.74981501 -0.04629638 -1.93147551 -1.29482272 -0.24070726]\n",
      " [-1.08396695  2.23291618  1.46087976 -1.38253115  0.62009838]\n",
      " [ 0.81738406 -1.11101949  0.21037544  1.30586807 -0.00896566]\n",
      " [-0.08386254  1.09419127 -0.20178341 -0.68248892 -0.09039548]\n",
      " [-0.5980447  -0.62763674  1.69377183  0.18134757 -0.83422552]\n",
      " [ 1.08609644  0.09635627  1.5622336   0.2934224   0.98012014]\n",
      " [-0.43315345  0.76401724 -0.63993267 -0.73729522 -2.0709166 ]\n",
      " [ 0.46270043 -1.27118198 -0.9313483  -1.61183155  0.73870093]\n",
      " [ 0.2019654  -0.15614588 -1.97673639  0.71436189 -0.73062877]\n",
      " [-0.72548618  1.2956586   1.54700056 -0.42372278 -0.14023833]\n",
      " [-0.43909191 -0.38930534  0.31756905 -0.60760298 -0.03920035]\n",
      " [ 1.20410255 -0.04209369  0.26681897  0.36365074 -0.92807614]\n",
      " [ 0.84116158  2.1507072  -1.53532934 -1.13947961  0.01291396]\n",
      " [ 1.40274664 -1.87733618 -0.47869888 -0.49056105  0.52639433]\n",
      " [-1.71606786 -1.62242951  0.52540237 -1.19369332  0.39228259]\n",
      " [-0.34455375  0.32009967  1.30972716 -0.04879433  0.19731122]\n",
      " [-1.44477018  0.17858955  0.10449097 -0.60740289 -0.42289259]\n",
      " [-0.17034767  0.30322837  0.65638624 -0.90757897 -2.53554629]\n",
      " [ 0.41941772 -0.33204502 -0.53970854  0.03042516 -0.55251938]\n",
      " [-0.2703041   0.58206538  0.85478595  0.40550783 -1.71134615]\n",
      " [ 1.97786912  0.46791928 -1.7536236  -1.06355941 -1.5035205 ]\n",
      " [ 0.02042289 -0.86069239  0.7040638   1.6219471  -1.32894618]\n",
      " [-0.995854    1.00715848  0.22762524  0.7319621   0.95717553]\n",
      " [ 1.83656491  0.50755899  0.29537143  1.08067818 -0.23279688]\n",
      " [ 1.39147572  1.4664483   0.16712954 -1.19210761  0.04697495]\n",
      " [-1.80179957  1.26060383  0.87391809  0.09231373  0.56554702]\n",
      " [-1.33116895  1.7049319  -0.45081308 -1.66115072  0.86381602]\n",
      " [ 0.10886559  0.00654457  1.32299187 -0.74979764  1.35553291]\n",
      " [ 0.45027565  0.92180067 -0.19188675 -0.63706927 -0.4884477 ]\n",
      " [ 1.50410133 -1.28267676  0.02622582  0.77654965  0.31230177]]\n",
      "standard deviation: [1. 1. 1. 1. 1.]\n"
     ]
    }
   ],
   "source": [
    "p = 5\n",
    "n = 50   \n",
    "\n",
    "X = expression_matrix(n, p)\n",
    "y = np.random.randint(2, size=p)\n",
    "print(y)\n",
    "\n",
    "print(f'Normalized values: {X}')\n",
    "print(f\"standard deviation: {np.std(X, axis=0)}\")"
   ]
  },
  {
   "cell_type": "code",
   "execution_count": 4,
   "metadata": {
    "id": "DQmsG6h72jah"
   },
   "outputs": [],
   "source": [
    "def score(X, y):\n",
    "\n",
    "    y0 = []\n",
    "    y1 = []\n",
    "    for index, j in enumerate(y):\n",
    "        print(j)\n",
    "        if j == 1:\n",
    "            y1 = np.append(y1 ,index)\n",
    "    \n",
    "    y1 = np.asarray(y1, dtype = 'int')\n",
    "    score_of_x = np.zeros(n)\n",
    "        \n",
    "    \n",
    "    for i in range(p):\n",
    "        if i not in y1:\n",
    "            y0 = np.append(y0, i)\n",
    "    y0 = np.asarray(y0, dtype = 'int')\n",
    "\n",
    "                    \n",
    "    for index, row in enumerate(X):\n",
    "        for i in y1:\n",
    "            for j in y0:\n",
    "                if row[i] >= row[j]:\n",
    "                    score_of_x[index] = score_of_x[index] + 1\n",
    "       \n",
    "    return score_of_x,y0,y1"
   ]
  },
  {
   "cell_type": "code",
   "execution_count": 5,
   "metadata": {
    "colab": {
     "base_uri": "https://localhost:8080/",
     "height": 314
    },
    "id": "Z1dh3OHVMpyK",
    "outputId": "f563eb92-945a-4c2b-db7d-f8a054a268a6"
   },
   "outputs": [
    {
     "name": "stdout",
     "output_type": "stream",
     "text": [
      "1\n",
      "1\n",
      "1\n",
      "1\n",
      "0\n"
     ]
    }
   ],
   "source": [
    "scoreX,y0,y1 = score(X, y)"
   ]
  },
  {
   "cell_type": "code",
   "execution_count": 6,
   "metadata": {},
   "outputs": [],
   "source": [
    "def flip_sign(X, score):\n",
    "    s_max = np.max(score)\n",
    "    flipped_X = []\n",
    "    \n",
    "    for i in range(len(score)):\n",
    "        if(score[i] > s_max/2):\n",
    "            X[i] = X[i] * (-1)\n",
    "\n",
    "    return X\n",
    "        \n"
   ]
  },
  {
   "cell_type": "code",
   "execution_count": 7,
   "metadata": {},
   "outputs": [],
   "source": [
    "X = flip_sign(X, scoreX)"
   ]
  },
  {
   "cell_type": "code",
   "execution_count": 8,
   "metadata": {},
   "outputs": [],
   "source": [
    "def new_score(score):\n",
    "    new_score = []\n",
    "    s_max = np.max(score)\n",
    "    for i in range(len(score)):\n",
    "        n = np.minimum(int(score[i]), int(s_max)-int(score[i]))\n",
    "        new_score.append(n)\n",
    "    return new_score\n",
    "        "
   ]
  },
  {
   "cell_type": "code",
   "execution_count": 9,
   "metadata": {},
   "outputs": [],
   "source": [
    "newscore = new_score(scoreX)"
   ]
  },
  {
   "cell_type": "code",
   "execution_count": 10,
   "metadata": {},
   "outputs": [],
   "source": [
    "def margin(X,y0,y1):\n",
    "    m = []\n",
    "    max_x0 = []\n",
    "    min_x1 = []\n",
    "    \n",
    "    for i in range(X.shape[0]):\n",
    "        X0 = []\n",
    "        X1 = []\n",
    "        for j in y0:\n",
    "            X0.append(X[i][j])\n",
    "        for z in y1:\n",
    "            X1.append(X[i][z])\n",
    "            \n",
    "            \n",
    "        max_x0.append(np.max(X0))\n",
    "        min_x1.append(np.min(X1))\n",
    "        \n",
    "        m.append(min_x1[i] -max_x0[i])\n",
    "        \n",
    "    return m\n"
   ]
  },
  {
   "cell_type": "code",
   "execution_count": 11,
   "metadata": {},
   "outputs": [],
   "source": [
    "def init_cluster(new_score, X, y0, y1):\n",
    "    min_score = np.min(new_score)\n",
    "    similar_genes = []\n",
    "    margins = []\n",
    "    for i in range(len(new_score)):\n",
    "        if (new_score[i] == min_score):\n",
    "            similar_genes.append(i)\n",
    "            \n",
    "    marginz = margin(X, y0, y1)\n",
    "    for i in similar_genes:\n",
    "        margins.append(marginz[i])\n",
    "        \n",
    "    max_margin = np.argmax(margins)\n",
    "        \n",
    "    ie = similar_genes[max_margin]\n",
    "    \n",
    "    return {\n",
    "        \"ie\" : ie,\n",
    "        \"cg\" : X[ie] \n",
    "    } \n",
    "        "
   ]
  },
  {
   "cell_type": "code",
   "execution_count": 12,
   "metadata": {},
   "outputs": [],
   "source": [
    "c = []\n",
    "c.append(init_cluster(newscore, X, y0, y1))"
   ]
  },
  {
   "cell_type": "code",
   "execution_count": 13,
   "metadata": {},
   "outputs": [
    {
     "data": {
      "text/plain": [
       "[{'ie': 38,\n",
       "  'cg': array([-0.41941772,  0.33204502,  0.53970854, -0.03042516,  0.55251938])}]"
      ]
     },
     "execution_count": 13,
     "metadata": {},
     "output_type": "execute_result"
    }
   ],
   "source": [
    "c"
   ]
  },
  {
   "cell_type": "code",
   "execution_count": 19,
   "metadata": {},
   "outputs": [],
   "source": [
    "def average_cluster(c):\n",
    "    \n",
    "    \n",
    "    C = np.sum(c['cg'])\n",
    "    C = C/abs(c['cg'])\n",
    " \n",
    "    return C\n",
    "        "
   ]
  },
  {
   "cell_type": "code",
   "execution_count": 20,
   "metadata": {},
   "outputs": [
    {
     "data": {
      "text/plain": [
       "array([ 2.32329257,  2.93463235,  1.80547462, 32.02711354,  1.76361245])"
      ]
     },
     "execution_count": 20,
     "metadata": {},
     "output_type": "execute_result"
    }
   ],
   "source": [
    "average_cluster(c[0])"
   ]
  },
  {
   "cell_type": "code",
   "execution_count": null,
   "metadata": {},
   "outputs": [],
   "source": [
    "def average_genes():\n",
    "    "
   ]
  },
  {
   "cell_type": "code",
   "execution_count": null,
   "metadata": {},
   "outputs": [],
   "source": []
  },
  {
   "cell_type": "code",
   "execution_count": null,
   "metadata": {},
   "outputs": [],
   "source": []
  },
  {
   "cell_type": "code",
   "execution_count": null,
   "metadata": {},
   "outputs": [],
   "source": []
  },
  {
   "cell_type": "code",
   "execution_count": null,
   "metadata": {},
   "outputs": [],
   "source": []
  },
  {
   "cell_type": "code",
   "execution_count": null,
   "metadata": {},
   "outputs": [],
   "source": []
  }
 ],
 "metadata": {
  "colab": {
   "provenance": []
  },
  "kernelspec": {
   "display_name": "Python 3 (ipykernel)",
   "language": "python",
   "name": "python3"
  },
  "language_info": {
   "codemirror_mode": {
    "name": "ipython",
    "version": 3
   },
   "file_extension": ".py",
   "mimetype": "text/x-python",
   "name": "python",
   "nbconvert_exporter": "python",
   "pygments_lexer": "ipython3",
   "version": "3.9.12"
  }
 },
 "nbformat": 4,
 "nbformat_minor": 1
}
