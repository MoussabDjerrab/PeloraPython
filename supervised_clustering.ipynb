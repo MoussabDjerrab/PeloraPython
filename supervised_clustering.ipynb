{
 "cells": [
  {
   "cell_type": "code",
   "execution_count": 1,
   "metadata": {
    "id": "ipD08B5pwn5g"
   },
   "outputs": [],
   "source": [
    "#imports\n",
    "import numpy as np\n",
    "import matplotlib.pyplot as plt"
   ]
  },
  {
   "cell_type": "code",
   "execution_count": 2,
   "metadata": {
    "id": "NhNgPIWWxTHC"
   },
   "outputs": [],
   "source": [
    "def expression_matrix(n, p):\n",
    "    \n",
    "    X = np.random.randn(n, p)\n",
    "    #print(X)\n",
    "\n",
    "\n",
    "\n",
    "    col_means = np.mean(X, axis=0)\n",
    "    \n",
    "    col_std = np.std(X, axis=0)\n",
    "    \n",
    "    X_normalized = (X - col_means) / col_std #We use the  normalization to have a zero mean and a unit variance \n",
    "    \n",
    "    return X_normalized"
   ]
  },
  {
   "cell_type": "code",
   "execution_count": 5,
   "metadata": {
    "colab": {
     "base_uri": "https://localhost:8080/"
    },
    "id": "jme04vbCxxRQ",
    "outputId": "680ff60e-d0f3-4514-cb83-91af7bfa8a7e"
   },
   "outputs": [],
   "source": [
    "p = 46\n",
    "n = 72   \n",
    "\n",
    "X = expression_matrix(n, p)\n",
    "y = np.random.randint(2, size=p)\n"
   ]
  },
  {
   "cell_type": "code",
   "execution_count": 7,
   "metadata": {},
   "outputs": [
    {
     "data": {
      "image/png": "[encoded data removed]",
      "text/plain": [
       "<Figure size 640x480 with 1 Axes>"
      ]
     },
     "metadata": {},
     "output_type": "display_data"
    }
   ],
   "source": [
    "#plot the distribution\n",
    "count, bins, ignored = plt.hist(X, 100, density=True, align='mid')"
   ]
  },
  {
   "cell_type": "code",
   "execution_count": 8,
   "metadata": {
    "id": "DQmsG6h72jah"
   },
   "outputs": [],
   "source": [
    "def score(X, y):\n",
    "\n",
    "    y0 = []\n",
    "    y1 = []\n",
    "    for index, j in enumerate(y):\n",
    "        print(j)\n",
    "        if j == 1:\n",
    "            y1 = np.append(y1 ,index)\n",
    "    \n",
    "    y1 = np.asarray(y1, dtype = 'int')\n",
    "    score_of_x = np.zeros(n)\n",
    "        \n",
    "    \n",
    "    for i in range(p):\n",
    "        if i not in y1:\n",
    "            y0 = np.append(y0, i)\n",
    "    y0 = np.asarray(y0, dtype = 'int')\n",
    "\n",
    "                    \n",
    "    for index, row in enumerate(X):\n",
    "        for i in y1:\n",
    "            for j in y0:\n",
    "                if row[i] >= row[j]:\n",
    "                    score_of_x[index] = score_of_x[index] + 1\n",
    "       \n",
    "    return score_of_x,y0,y1"
   ]
  },
  {
   "cell_type": "code",
   "execution_count": 9,
   "metadata": {
    "colab": {
     "base_uri": "https://localhost:8080/",
     "height": 314
    },
    "id": "Z1dh3OHVMpyK",
    "outputId": "f563eb92-945a-4c2b-db7d-f8a054a268a6"
   },
   "outputs": [
    {
     "name": "stdout",
     "output_type": "stream",
     "text": [
      "0\n",
      "1\n",
      "1\n",
      "0\n",
      "0\n",
      "0\n",
      "1\n",
      "0\n",
      "1\n",
      "1\n",
      "0\n",
      "0\n",
      "0\n",
      "0\n",
      "0\n",
      "1\n",
      "0\n",
      "1\n",
      "0\n",
      "0\n",
      "1\n",
      "1\n",
      "0\n",
      "0\n",
      "1\n",
      "1\n",
      "0\n",
      "1\n",
      "1\n",
      "0\n",
      "1\n",
      "1\n",
      "1\n",
      "0\n",
      "1\n",
      "1\n",
      "0\n",
      "0\n",
      "0\n",
      "1\n",
      "1\n",
      "0\n",
      "0\n",
      "1\n",
      "1\n",
      "1\n"
     ]
    }
   ],
   "source": [
    "scoreX,y0,y1 = score(X, y)"
   ]
  },
  {
   "cell_type": "code",
   "execution_count": 10,
   "metadata": {},
   "outputs": [],
   "source": [
    "def flip_sign(X, score):\n",
    "    s_max = np.max(score)\n",
    "    \n",
    "    for i in range(len(score)):\n",
    "        if(score[i] > s_max/2):\n",
    "            X[i] = X[i] * (-1)\n",
    "\n",
    "    return X\n",
    "        \n"
   ]
  },
  {
   "cell_type": "code",
   "execution_count": 11,
   "metadata": {},
   "outputs": [],
   "source": [
    "X = flip_sign(X, scoreX)"
   ]
  },
  {
   "cell_type": "code",
   "execution_count": 12,
   "metadata": {},
   "outputs": [],
   "source": [
    "def new_score(score):\n",
    "    new_score = []\n",
    "    s_max = np.max(score)\n",
    "    for i in range(len(score)):\n",
    "        n = np.minimum(int(score[i]), int(s_max)-int(score[i]))\n",
    "        new_score.append(n)\n",
    "    return new_score\n",
    "        "
   ]
  },
  {
   "cell_type": "code",
   "execution_count": 13,
   "metadata": {},
   "outputs": [],
   "source": [
    "newscore = new_score(scoreX)"
   ]
  },
  {
   "cell_type": "code",
   "execution_count": 14,
   "metadata": {},
   "outputs": [],
   "source": [
    "def margin(X,y0,y1):\n",
    "    m = []\n",
    "    max_x0 = []\n",
    "    min_x1 = []\n",
    "    \n",
    "    for i in range(X.shape[0]):\n",
    "        X0 = []\n",
    "        X1 = []\n",
    "        for j in y0:\n",
    "            X0.append(X[i][j])\n",
    "        for z in y1:\n",
    "            X1.append(X[i][z])\n",
    "            \n",
    "            \n",
    "        max_x0.append(np.max(X0))\n",
    "        min_x1.append(np.min(X1))\n",
    "        \n",
    "        m.append(min_x1[i] -max_x0[i])\n",
    "        \n",
    "    return m\n"
   ]
  },
  {
   "cell_type": "code",
   "execution_count": 15,
   "metadata": {},
   "outputs": [],
   "source": [
    "def init_cluster(new_score, X, y0, y1):\n",
    "    min_score = np.min(new_score)\n",
    "    similar_genes = []\n",
    "    margins = []\n",
    "    for i in range(len(new_score)):\n",
    "        if (new_score[i] == min_score):\n",
    "            similar_genes.append(i)\n",
    "            \n",
    "    marginz = margin(X, y0, y1)\n",
    "    for i in similar_genes:\n",
    "        margins.append(marginz[i])\n",
    "        \n",
    "    max_margin = np.argmax(margins)\n",
    "        \n",
    "    ie = similar_genes[max_margin]\n",
    "    \n",
    "    return {\n",
    "        \"ie\" : ie,\n",
    "        \"cg\" : X[ie] \n",
    "    } \n",
    "        "
   ]
  },
  {
   "cell_type": "code",
   "execution_count": 16,
   "metadata": {},
   "outputs": [],
   "source": [
    "c = []\n",
    "c.append(init_cluster(newscore, X, y0, y1))"
   ]
  },
  {
   "cell_type": "code",
   "execution_count": 17,
   "metadata": {},
   "outputs": [
    {
     "data": {
      "text/plain": [
       "[{'ie': 7,\n",
       "  'cg': array([-1.08809574e+00, -1.54877333e-03, -5.96296086e-01,  2.13412937e-02,\n",
       "         -1.01178891e+00,  1.25003964e+00,  1.42139351e+00,  2.13735406e-01,\n",
       "          1.81024283e-01, -1.42169637e+00,  1.57793236e+00,  1.82710338e+00,\n",
       "          7.16678433e-01, -5.22981680e-01,  7.80285556e-01, -1.69579973e-01,\n",
       "          3.17482488e-01, -9.59149443e-01, -1.51624439e-01, -6.21135523e-01,\n",
       "         -5.88053810e-01,  1.23365561e+00,  6.05153081e-01,  6.94153555e-01,\n",
       "         -3.07644800e-01, -1.53418437e+00, -1.99290483e-01, -6.10109488e-01,\n",
       "         -9.82212145e-01, -1.16456577e+00,  1.22327222e+00,  6.88048347e-01,\n",
       "         -2.49827628e+00,  1.72789057e+00, -2.89153529e-01,  4.04207546e-01,\n",
       "         -4.55007563e-02, -7.43744836e-01,  1.26966991e+00,  8.14845849e-02,\n",
       "         -8.51574457e-01,  6.29011414e-01, -5.79626894e-01, -5.86738562e-01,\n",
       "         -1.03879088e+00, -1.27911922e+00])}]"
      ]
     },
     "execution_count": 17,
     "metadata": {},
     "output_type": "execute_result"
    }
   ],
   "source": [
    "c"
   ]
  },
  {
   "cell_type": "code",
   "execution_count": null,
   "metadata": {},
   "outputs": [],
   "source": []
  },
  {
   "cell_type": "code",
   "execution_count": null,
   "metadata": {},
   "outputs": [],
   "source": []
  },
  {
   "cell_type": "code",
   "execution_count": null,
   "metadata": {},
   "outputs": [],
   "source": []
  }
 ],
 "metadata": {
  "colab": {
   "provenance": []
  },
  "kernelspec": {
   "display_name": "Python 3 (ipykernel)",
   "language": "python",
   "name": "python3"
  },
  "language_info": {
   "codemirror_mode": {
    "name": "ipython",
    "version": 3
   },
   "file_extension": ".py",
   "mimetype": "text/x-python",
   "name": "python",
   "nbconvert_exporter": "python",
   "pygments_lexer": "ipython3",
   "version": "3.10.9"
  }
 },
 "nbformat": 4,
 "nbformat_minor": 1
}
