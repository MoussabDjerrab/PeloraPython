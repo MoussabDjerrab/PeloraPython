{
 "cells": [
  {
   "attachments": {},
   "cell_type": "markdown",
   "metadata": {},
   "source": [
    "## step 1 :"
   ]
  },
  {
   "cell_type": "code",
   "execution_count": null,
   "metadata": {},
   "outputs": [],
   "source": [
    "import numpy as np\n",
    "import pandas as pd\n",
    "\n",
    "n=10\n",
    "p=10\n",
    "X = np.random.randn(p, n)\n",
    "print(\"la matrice X\")\n",
    "print(X)\n",
    "Y = np.random.choice([0, 1], size=n)\n",
    "print(\"le vecteur Y\")\n",
    "print(Y)"
   ]
  },
  {
   "attachments": {},
   "cell_type": "markdown",
   "metadata": {},
   "source": [
    "## step 2 :\n"
   ]
  },
  {
   "cell_type": "code",
   "execution_count": null,
   "metadata": {},
   "outputs": [],
   "source": [
    "#calcule de score \n",
    "def calculate_score(X):\n",
    "    scores = np.array([])\n",
    "    for i in range(0,p):\n",
    "        score = 0\n",
    "        N0 = np.array([], dtype=int)\n",
    "        N1 = np.array([], dtype=int)\n",
    "        for t in range (0,len(y)):\n",
    "            if t==0 :\n",
    "                N0=np.append(N0,t)\n",
    "            else :\n",
    "                N1=np.append(N1,t)\n",
    "        \n",
    "        for j in range(0,len(N0)):\n",
    "         for l in range(0,len(N1)):\n",
    "            if N0[j]>=N1[l]:    \n",
    "                score = score+1\n",
    "    scores=np.append(scores,score)\n",
    "\n",
    "    print(\"vecteur de scores \" + scores)   \n",
    "\n",
    "\n",
    "#calcule de \"Smax  = NO * N1 \"\n",
    "\n",
    "n0 = len(Y) - np.count_nonzero(Y)\n",
    "n1 = np.count_nonzero(Y)\n",
    "Smax = n0*n1\n",
    "print(\"smax est :\" + Smax)\n",
    "\n",
    "\n",
    "\n",
    "#Flip the sign\n",
    "expression = np.random.randn(p, n)\n",
    "expression = X \n",
    "\n",
    "for i in range(0,len(scores)):\n",
    "    if scores[i]>Smax/2:\n",
    "       expression[i] *= -1\n",
    "\n",
    "print(\" l'expression : \" + expression)\n",
    "\n",
    "\n",
    "#new score \n",
    "new_score = np.empty(shape=(0,))\n",
    "for i in range(0,len(scores)):\n",
    "    scor = min (scores[i],Smax-scores[i])\n",
    "    new_score  = np.append(new_score ,scor)\n",
    "\n",
    "print(\"le nouveau score est : \" + new_score )\n",
    "        \n",
    "                \n",
    "\n"
   ]
  },
  {
   "attachments": {},
   "cell_type": "markdown",
   "metadata": {},
   "source": [
    "## etape 3 :\n"
   ]
  },
  {
   "cell_type": "code",
   "execution_count": null,
   "metadata": {},
   "outputs": [],
   "source": []
  }
 ],
 "metadata": {
  "kernelspec": {
   "display_name": "Python 3",
   "language": "python",
   "name": "python3"
  },
  "language_info": {
   "codemirror_mode": {
    "name": "ipython",
    "version": 3
   },
   "file_extension": ".py",
   "mimetype": "text/x-python",
   "name": "python",
   "nbconvert_exporter": "python",
   "pygments_lexer": "ipython3",
   "version": "3.11.3"
  },
  "orig_nbformat": 4
 },
 "nbformat": 4,
 "nbformat_minor": 2
}
