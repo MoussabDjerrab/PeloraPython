{
 "cells": [
  {
   "attachments": {},
   "cell_type": "markdown",
   "id": "e50af55f",
   "metadata": {},
   "source": [
    "## preparing data"
   ]
  },
  {
   "cell_type": "code",
   "execution_count": 48,
   "id": "550983bf",
   "metadata": {},
   "outputs": [],
   "source": [
    "import numpy as np"
   ]
  },
  {
   "cell_type": "code",
   "execution_count": 3,
   "id": "14974212",
   "metadata": {},
   "outputs": [],
   "source": [
    "#The matrix\n",
    "p=10\n",
    "n=6\n",
    "X=np.random.randn(p,n)\n",
    "y=np.random.randint(0,2,size=(n,))"
   ]
  },
  {
   "attachments": {},
   "cell_type": "markdown",
   "id": "b7d55296",
   "metadata": {},
   "source": [
    "## Score function"
   ]
  },
  {
   "cell_type": "code",
   "execution_count": 55,
   "id": "9fb73278",
   "metadata": {},
   "outputs": [],
   "source": [
    "def score(X,y):\n",
    "    scr=0\n",
    "    phi=np.zeros((len(X)))\n",
    "    for x in range(len(X)):\n",
    "        for i in range(len(y)):\n",
    "            if y[i]==0:\n",
    "                for j in range(len(y)):\n",
    "                    if(y[j]==1 and X[x][i]>X[x][j]):\n",
    "                        scr +=1\n",
    "        phi[x]=scr\n",
    "        scr=0\n",
    "    return phi.reshape(-1,1)\n"
   ]
  },
  {
   "attachments": {},
   "cell_type": "markdown",
   "id": "002369a4",
   "metadata": {},
   "source": [
    "## flip"
   ]
  },
  {
   "cell_type": "code",
   "execution_count": 56,
   "id": "ab46dfff",
   "metadata": {},
   "outputs": [],
   "source": [
    "def flip (X,y,phi,smax):\n",
    "    X = np.where(phi > smax / 2, -1 * X, X)\n",
    "    return X"
   ]
  },
  {
   "attachments": {},
   "cell_type": "markdown",
   "id": "9c22bf47",
   "metadata": {},
   "source": [
    "## Margin Function"
   ]
  },
  {
   "cell_type": "code",
   "execution_count": 60,
   "id": "64ffa60d",
   "metadata": {},
   "outputs": [],
   "source": [
    "def margin(x, y):\n",
    "    y_zero_indices = np.where(y == 0)[0]\n",
    "    y_one_indices = np.where(y == 1)[0]\n",
    "    \n",
    "    margins = np.zeros(x.shape[0])\n",
    "    \n",
    "    for i in range(x.shape[0]):\n",
    "        min_one = np.min(x[i, y_one_indices])\n",
    "        max_zero = np.max(x[i, y_zero_indices])\n",
    "        margins[i] = min_one - max_zero\n",
    "    \n",
    "    return margins\n"
   ]
  },
  {
   "attachments": {},
   "cell_type": "markdown",
   "id": "95a5077b",
   "metadata": {},
   "source": [
    "## Pelora with the previous 3 steps"
   ]
  },
  {
   "cell_type": "code",
   "execution_count": 75,
   "id": "f71760aa",
   "metadata": {},
   "outputs": [],
   "source": [
    "def pelora(X, y, initial_cluster=None,smax=1):\n",
    "    # x is of shape (p, n): p: number of genes, n = 2\n",
    "    \n",
    "    yvals = np.array([0, 1])\n",
    "    \n",
    "    p, n = X.shape\n",
    "    \n",
    "    #standardisation\n",
    "    X= (X - X.mean()) / X.std()\n",
    "    \n",
    "    # etape 2\n",
    "    scores = score(X, y)\n",
    "    expressions = flip(X,y,scores,smax)\n",
    "    \n",
    "    # etape 3 \n",
    "    #case1: initial cluster was not given\n",
    "    if initial_cluster is None:\n",
    "        score_expression = np.min(np.hstack((expressions, smax - expressions)), axis=1)\n",
    "\n",
    "        minimum_value = np.min(score_expression)\n",
    "        \n",
    "        index_of_minimum = (score_expression == minimum_value)\n",
    "        \n",
    "        number_of_elements = index_of_minimum.sum()\n",
    "        \n",
    "        if number_of_elements == 1:\n",
    "            indicies_of_minimum_score = np.where(index_of_minimum)\n",
    "            i_star = indicies_of_minimum_score[0]\n",
    "            \n",
    "            initial_cluster_mean = expressions[i_star]\n",
    "        \n",
    "        else:\n",
    "           # calculate margins\n",
    "            indicies_of_minimum_score = np.where(index_of_minimum)\n",
    "            \n",
    "            margins = margin(X, y)\n",
    "            indicies_of_maximum_margin = np.argmax(margins)\n",
    "            \n",
    "            i_star = set(indicies_of_minimum_score).intersection(indicies_of_maximum_margin).pop()\n",
    "            \n",
    "            initial_cluster_mean = expressions[i_star]\n",
    "    \n",
    "    \n",
    "    else:\n",
    "        # case2 : initial cluster was given\n",
    "        initial_cluster_mean = initial_cluster.mean(axis=0)\n",
    " \n",
    "   "
   ]
  },
  {
   "cell_type": "code",
   "execution_count": 76,
   "id": "387ba61e",
   "metadata": {},
   "outputs": [],
   "source": [
    "pelora(X,y,initial_cluster=None,smax=1)"
   ]
  }
 ],
 "metadata": {
  "kernelspec": {
   "display_name": "Python 3 (ipykernel)",
   "language": "python",
   "name": "python3"
  },
  "language_info": {
   "codemirror_mode": {
    "name": "ipython",
    "version": 3
   },
   "file_extension": ".py",
   "mimetype": "text/x-python",
   "name": "python",
   "nbconvert_exporter": "python",
   "pygments_lexer": "ipython3",
   "version": "3.9.13"
  }
 },
 "nbformat": 4,
 "nbformat_minor": 5
}
