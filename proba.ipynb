{
 "cells": [
  {
   "attachments": {},
   "cell_type": "markdown",
   "metadata": {},
   "source": [
    "## Step 1"
   ]
  },
  {
   "cell_type": "code",
   "execution_count": 2,
   "metadata": {},
   "outputs": [
    {
     "name": "stdout",
     "output_type": "stream",
     "text": [
      "X [[ 0.91713176 -0.90243893  1.44528202  0.52352804 -1.83636012 -0.26904765\n",
      "   1.28346913  0.2490139   1.02789573  1.21501068]\n",
      " [ 0.2025701   1.94689289 -0.14614529  0.47173717  0.42828842  0.24825837\n",
      "  -0.38479923 -1.48500035 -1.72938369 -1.51412506]\n",
      " [-1.92477155 -0.20526708 -0.30084902 -1.45804949  0.06126227  0.94735186\n",
      "  -1.3584403   0.48744529 -0.42778408 -0.6483552 ]\n",
      " [ 0.61350943 -0.39768265  0.57347027 -0.83406305  1.18995562  0.86699058\n",
      "  -0.56181615  1.42665031  0.30769682  0.89915257]\n",
      " [ 0.19156026 -0.44150424 -1.57175798  1.29684732  0.15685381 -1.79355316\n",
      "   1.02158656 -0.67810916  0.82157523  0.048317  ]]\n",
      "y [0 1 1 1 0 1 0 1 0 1]\n"
     ]
    }
   ],
   "source": [
    "import numpy as np\n",
    "n = 5\n",
    "p = 10\n",
    "\n",
    "def generate_matrix(n, p):\n",
    "  X = np.random.rand(n, p)\n",
    "  means = np.mean(X, axis=0)\n",
    "  stds = np.std(X, axis=0)\n",
    "  X = (X - means) / stds\n",
    "  y = np.random.randint(0, 2, p)\n",
    "  return X,y\n",
    "\n",
    "X,y = generate_matrix(n, p)\n",
    "\n",
    "print(\"X\", X)\n",
    "print(\"y\", y)"
   ]
  },
  {
   "attachments": {},
   "cell_type": "markdown",
   "metadata": {},
   "source": [
    "## Step 2"
   ]
  },
  {
   "cell_type": "code",
   "execution_count": 3,
   "metadata": {},
   "outputs": [
    {
     "name": "stdout",
     "output_type": "stream",
     "text": [
      "Flipped Expression Matrix:\n",
      "[[-0.91713176  0.90243893 -1.44528202 -0.52352804  1.83636012  0.26904765\n",
      "  -1.28346913 -0.2490139  -1.02789573 -1.21501068]\n",
      " [-0.2025701  -1.94689289  0.14614529 -0.47173717 -0.42828842 -0.24825837\n",
      "   0.38479923  1.48500035  1.72938369  1.51412506]\n",
      " [ 1.92477155  0.20526708  0.30084902  1.45804949 -0.06126227 -0.94735186\n",
      "   1.3584403  -0.48744529  0.42778408  0.6483552 ]\n",
      " [-0.61350943  0.39768265 -0.57347027  0.83406305 -1.18995562 -0.86699058\n",
      "   0.56181615 -1.42665031 -0.30769682 -0.89915257]\n",
      " [-0.19156026  0.44150424  1.57175798 -1.29684732 -0.15685381  1.79355316\n",
      "  -1.02158656  0.67810916 -0.82157523 -0.048317  ]]\n",
      "\n",
      "Scores:\n",
      "[-2.92128266 -2.9578929  -2.59044557 -2.14213225 -2.63146691]\n"
     ]
    }
   ],
   "source": [
    "smax = 0.5\n",
    "\n",
    "def determine_scores_and_flip(X, smax):\n",
    "    scores = np.linalg.norm(X, axis=1)\n",
    "    \n",
    "    flip_indices = np.where(scores > smax / 2)[0]\n",
    "    \n",
    "    X_flipped = np.copy(X)\n",
    "    X_flipped[flip_indices] = -X_flipped[flip_indices]\n",
    "    \n",
    "    flipped_scores = np.linalg.norm(X_flipped, axis=1)\n",
    "    scores = np.minimum(scores, smax - flipped_scores)\n",
    "    \n",
    "    return X_flipped, scores\n",
    "\n",
    "\n",
    "X_flipped, scores = determine_scores_and_flip(X, smax)\n",
    "\n",
    "print(\"Flipped Expression Matrix:\")\n",
    "print(X_flipped)\n",
    "print(\"\\nScores:\")\n",
    "print(scores)\n"
   ]
  },
  {
   "attachments": {},
   "cell_type": "markdown",
   "metadata": {},
   "source": [
    "## Step 3"
   ]
  },
  {
   "cell_type": "code",
   "execution_count": 4,
   "metadata": {},
   "outputs": [
    {
     "name": "stdout",
     "output_type": "stream",
     "text": [
      "Initial Cluster Mean:\n",
      "[ 0.61350943 -0.39768265  0.57347027 -0.83406305  1.18995562  0.86699058\n",
      " -0.56181615  1.42665031  0.30769682  0.89915257]\n",
      "\n",
      "Initial Cluster Mean with Given Cluster:\n",
      "[0.54905875 0.54055961 0.49127443 0.63613172 0.48151707]\n"
     ]
    }
   ],
   "source": [
    "C = np.random.rand(10, n)\n",
    "def compute_starting_values(X, C=None):\n",
    "    scores = np.linalg.norm(X, axis=1)\n",
    "\n",
    "    if C is None:\n",
    "        min_score = np.min(scores) \n",
    "        genes_with_min_score = np.where(scores == min_score)[0]\n",
    "\n",
    "        if len(genes_with_min_score) > 1:\n",
    "            margins = compute_margins(X, scores)\n",
    "            max_margin_gene = genes_with_min_score[np.argmax(margins)]\n",
    "            initial_cluster_mean = X[max_margin_gene]\n",
    "        else:\n",
    "            initial_cluster_mean = X[genes_with_min_score[0]]\n",
    "    else:\n",
    "        initial_cluster_mean = np.mean(C, axis=0)\n",
    "\n",
    "    return initial_cluster_mean\n",
    "\n",
    "\n",
    "def compute_margins(X, scores):\n",
    "    norms = np.linalg.norm(X, axis=1)\n",
    "    max_norm = np.max(norms)\n",
    "    margins = (scores - (max_norm - norms)) / max_norm\n",
    "    return margins\n",
    "\n",
    "\n",
    "starting_values = compute_starting_values(X)\n",
    "print(\"Initial Cluster Mean:\")\n",
    "print(starting_values)\n",
    "\n",
    "starting_values_with_cluster = compute_starting_values(X, C=C)\n",
    "print(\"\\nInitial Cluster Mean with Given Cluster:\")\n",
    "print(starting_values_with_cluster)\n"
   ]
  },
  {
   "attachments": {},
   "cell_type": "markdown",
   "metadata": {},
   "source": [
    "## Step 4"
   ]
  },
  {
   "cell_type": "code",
   "execution_count": 5,
   "metadata": {},
   "outputs": [
    {
     "ename": "ValueError",
     "evalue": "operands could not be broadcast together with shapes (10,5) (10,) ",
     "output_type": "error",
     "traceback": [
      "\u001b[1;31m---------------------------------------------------------------------------\u001b[0m",
      "\u001b[1;31mValueError\u001b[0m                                Traceback (most recent call last)",
      "Cell \u001b[1;32mIn[5], line 33\u001b[0m\n\u001b[0;32m     30\u001b[0m     margins \u001b[39m=\u001b[39m (scores \u001b[39m-\u001b[39m (max_norm \u001b[39m-\u001b[39m norms))\n\u001b[0;32m     31\u001b[0m     \u001b[39mreturn\u001b[39;00m margins\n\u001b[1;32m---> 33\u001b[0m winning_gene \u001b[39m=\u001b[39m forward_search(X, C)\n\u001b[0;32m     34\u001b[0m \u001b[39mprint\u001b[39m(\u001b[39m\"\u001b[39m\u001b[39mWinning Gene:\u001b[39m\u001b[39m\"\u001b[39m)\n\u001b[0;32m     35\u001b[0m \u001b[39mprint\u001b[39m(winning_gene)\n",
      "Cell \u001b[1;32mIn[5], line 8\u001b[0m, in \u001b[0;36mforward_search\u001b[1;34m(X, C)\u001b[0m\n\u001b[0;32m      5\u001b[0m scores \u001b[39m=\u001b[39m np\u001b[39m.\u001b[39mzeros(p)\n\u001b[0;32m      7\u001b[0m \u001b[39mfor\u001b[39;00m i \u001b[39min\u001b[39;00m \u001b[39mrange\u001b[39m(p):\n\u001b[1;32m----> 8\u001b[0m     Ci_plus \u001b[39m=\u001b[39m (C \u001b[39m+\u001b[39;49m X[i]) \u001b[39m/\u001b[39m (\u001b[39mlen\u001b[39m(C) \u001b[39m+\u001b[39m \u001b[39m1\u001b[39m)\n\u001b[0;32m      9\u001b[0m     scores[i] \u001b[39m=\u001b[39m compute_score(Ci_plus)\n\u001b[0;32m     11\u001b[0m min_score \u001b[39m=\u001b[39m np\u001b[39m.\u001b[39mmin(scores) \n",
      "\u001b[1;31mValueError\u001b[0m: operands could not be broadcast together with shapes (10,5) (10,) "
     ]
    }
   ],
   "source": [
    "import numpy as np\n",
    "\n",
    "def forward_search(X, C):\n",
    "    p = X.shape[0]\n",
    "    scores = np.zeros(p)\n",
    "\n",
    "    for i in range(p):\n",
    "        Ci_plus = (C + X[i]) / (len(C) + 1)\n",
    "        scores[i] = compute_score(Ci_plus)\n",
    "\n",
    "    min_score = np.min(scores) \n",
    "    winning_genes = np.where(scores == min_score)[0]\n",
    "\n",
    "    if len(winning_genes) > 1:\n",
    "        margins = compute_margins(X[winning_genes], scores[winning_genes])\n",
    "        max_margin_gene = winning_genes[np.argmax(margins)]\n",
    "        winning_gene = X[max_margin_gene]\n",
    "    else:\n",
    "        winning_gene = X[winning_genes[0]]\n",
    "\n",
    "    return winning_gene, scores\n",
    "\n",
    "def compute_score(C):\n",
    "    return np.sum(C)\n",
    "\n",
    "\n",
    "def compute_margins(X, scores):\n",
    "    norms = np.linalg.norm(X, axis=1)\n",
    "    max_norm = np.max(norms)\n",
    "    margins = (scores - (max_norm - norms))\n",
    "    return margins\n",
    "\n",
    "winning_gene = forward_search(X, C)\n",
    "print(\"Winning Gene:\")\n",
    "print(winning_gene)\n"
   ]
  },
  {
   "attachments": {},
   "cell_type": "markdown",
   "metadata": {},
   "source": [
    "## Step 5"
   ]
  },
  {
   "cell_type": "code",
   "execution_count": 6,
   "metadata": {},
   "outputs": [
    {
     "ename": "ValueError",
     "evalue": "setting an array element with a sequence. The requested array has an inhomogeneous shape after 1 dimensions. The detected shape was (2,) + inhomogeneous part.",
     "output_type": "error",
     "traceback": [
      "\u001b[1;31m---------------------------------------------------------------------------\u001b[0m",
      "\u001b[1;31mValueError\u001b[0m                                Traceback (most recent call last)",
      "Cell \u001b[1;32mIn[6], line 19\u001b[0m\n\u001b[0;32m     15\u001b[0m             C \u001b[39m=\u001b[39m (C \u001b[39m+\u001b[39m winning_gene) \u001b[39m/\u001b[39m (\u001b[39mlen\u001b[39m(C) \u001b[39m+\u001b[39m \u001b[39m1\u001b[39m)\n\u001b[0;32m     17\u001b[0m     \u001b[39mreturn\u001b[39;00m C\n\u001b[1;32m---> 19\u001b[0m final_cluster \u001b[39m=\u001b[39m repeat_forward_search(X)\n\u001b[0;32m     20\u001b[0m \u001b[39mprint\u001b[39m(\u001b[39m\"\u001b[39m\u001b[39mFinal Cluster Expression Profile:\u001b[39m\u001b[39m\"\u001b[39m)\n\u001b[0;32m     21\u001b[0m \u001b[39mprint\u001b[39m(final_cluster)\n",
      "Cell \u001b[1;32mIn[6], line 9\u001b[0m, in \u001b[0;36mrepeat_forward_search\u001b[1;34m(X)\u001b[0m\n\u001b[0;32m      6\u001b[0m \u001b[39mwhile\u001b[39;00m accepted:\n\u001b[0;32m      7\u001b[0m     winning_gene \u001b[39m=\u001b[39m forward_search(X, C)\n\u001b[1;32m----> 9\u001b[0m     updated_score \u001b[39m=\u001b[39m compute_score((C \u001b[39m+\u001b[39;49m winning_gene) \u001b[39m/\u001b[39m (\u001b[39mlen\u001b[39m(C) \u001b[39m+\u001b[39m \u001b[39m1\u001b[39m))\n\u001b[0;32m     11\u001b[0m     \u001b[39mif\u001b[39;00m updated_score \u001b[39m>\u001b[39m compute_score(C) \u001b[39mor\u001b[39;00m (\n\u001b[0;32m     12\u001b[0m             updated_score \u001b[39m==\u001b[39m compute_score(C) \u001b[39mand\u001b[39;00m np\u001b[39m.\u001b[39mmin(compute_margins(X, scores)) \u001b[39m<\u001b[39m np\u001b[39m.\u001b[39mmin(compute_margins(X, [compute_score(C)]))):\n\u001b[0;32m     13\u001b[0m         accepted \u001b[39m=\u001b[39m \u001b[39mFalse\u001b[39;00m\n",
      "\u001b[1;31mValueError\u001b[0m: setting an array element with a sequence. The requested array has an inhomogeneous shape after 1 dimensions. The detected shape was (2,) + inhomogeneous part."
     ]
    }
   ],
   "source": [
    "def repeat_forward_search(X):\n",
    "    p, n = X.shape\n",
    "    C = np.zeros(n)\n",
    "    accepted = True\n",
    "\n",
    "    while accepted:\n",
    "        winning_gene = forward_search(X, C)\n",
    "\n",
    "        updated_score = compute_score((C + winning_gene) / (len(C) + 1))\n",
    "\n",
    "        if updated_score > compute_score(C) or (\n",
    "                updated_score == compute_score(C) and np.min(compute_margins(X, scores)) < np.min(compute_margins(X, [compute_score(C)]))):\n",
    "            accepted = False\n",
    "        else:\n",
    "            C = (C + winning_gene) / (len(C) + 1)\n",
    "\n",
    "    return C\n",
    "\n",
    "final_cluster = repeat_forward_search(X)\n",
    "print(\"Final Cluster Expression Profile:\")\n",
    "print(final_cluster)\n"
   ]
  },
  {
   "attachments": {},
   "cell_type": "markdown",
   "metadata": {},
   "source": [
    "## Step 6"
   ]
  },
  {
   "cell_type": "code",
   "execution_count": 7,
   "metadata": {},
   "outputs": [
    {
     "name": "stdout",
     "output_type": "stream",
     "text": [
      "Winning gene (backward search): [ 0.19156026 -0.44150424 -1.57175798  1.29684732  0.15685381 -1.79355316\n",
      "  1.02158656 -0.67810916  0.82157523  0.048317  ]\n"
     ]
    }
   ],
   "source": [
    "def backward_search(X, C):\n",
    "    p = X.shape[0]\n",
    "    scores = np.zeros(p)\n",
    "\n",
    "    for i in range(p):\n",
    "        Ci_minus = np.delete(C, i, axis=0)\n",
    "        Ci_minus_avg = np.mean(Ci_minus, axis=0)\n",
    "        scores[i] = compute_score(Ci_minus_avg)\n",
    "\n",
    "    min_score = np.min(scores)\n",
    "    winning_genes = np.where(scores == min_score)[0]\n",
    "\n",
    "    if len(winning_genes) > 1:\n",
    "        margins = compute_margins(X[winning_genes], scores[winning_genes])\n",
    "        max_margin_gene = winning_genes[np.argmax(margins)]\n",
    "        winning_gene = X[max_margin_gene]\n",
    "    else:\n",
    "        winning_gene = X[winning_genes[0]]\n",
    "\n",
    "    return winning_gene\n",
    "\n",
    "winning_gene_backward = backward_search(X, C)\n",
    "\n",
    "print(\"Winning gene (backward search):\", winning_gene_backward)\n"
   ]
  }
 ],
 "metadata": {
  "kernelspec": {
   "display_name": "Python 3",
   "language": "python",
   "name": "python3"
  },
  "language_info": {
   "codemirror_mode": {
    "name": "ipython",
    "version": 3
   },
   "file_extension": ".py",
   "mimetype": "text/x-python",
   "name": "python",
   "nbconvert_exporter": "python",
   "pygments_lexer": "ipython3",
   "version": "3.11.0"
  },
  "orig_nbformat": 4
 },
 "nbformat": 4,
 "nbformat_minor": 2
}
